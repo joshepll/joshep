{
  "nbformat": 4,
  "nbformat_minor": 0,
  "metadata": {
    "colab": {
      "name": "_08 객체와 클래스.ipynb",
      "provenance": [],
      "collapsed_sections": [],
      "include_colab_link": true
    },
    "kernelspec": {
      "name": "python3",
      "display_name": "Python 3"
    },
    "language_info": {
      "name": "python"
    }
  },
  "cells": [
    {
      "cell_type": "markdown",
      "metadata": {
        "id": "view-in-github",
        "colab_type": "text"
      },
      "source": [
        "<a href=\"https://colab.research.google.com/github/joshepll/joshep/blob/main/_08_%EA%B0%9D%EC%B2%B4%EC%99%80_%ED%81%B4%EB%9E%98%EC%8A%A4.ipynb\" target=\"_parent\"><img src=\"https://colab.research.google.com/assets/colab-badge.svg\" alt=\"Open In Colab\"/></a>"
      ]
    },
    {
      "cell_type": "markdown",
      "metadata": {
        "id": "BD11JIB2998O"
      },
      "source": [
        "#객체와 클래스(object and Class)"
      ]
    },
    {
      "cell_type": "markdown",
      "metadata": {
        "id": "1boVc9rB-HPD"
      },
      "source": [
        "#객체(object)\n",
        "\n",
        "- 객체란 존재하는 모든 것들을 의미\n",
        "\n",
        "- 현실 세계는 객체로 이루어져 있고,모든 사건(event)들은 사물간의 상호작용을 통해 발생\n",
        "\n",
        "- 객체란 객체의 속성을 이루는 데이터 뿐만 아니라 그 데이터의 조작방법에 대한 내용도 포함\n",
        "\n",
        "- 객체는 속성과 기능을 가지고 있는 것이 핵심 포인트\n",
        "    \n",
        "    객체\n",
        "      눈:속성(데이터)\n",
        "     감는다:기능(데이터의 변화,메서드)\n",
        "\n",
        "     객체의 구성\n",
        "     name(이름)\n",
        "     Attributes(속성):변수,데이터\n",
        "     methods(기능):함수\n",
        "\n",
        "#객체 지향 프로그래밍(object oriented programming)\n",
        "\n",
        "- 객체 개념을 다루는 것이 객체 지향\n",
        "\n",
        "- 객체 지향 프로그래밍은 컴퓨터 프로그래밍 기법중 하나 (.vs함수형 프로그래밍,절차형 프로그래밍)\n",
        "\n",
        "- 프로그램을 단순히 데이터와 처리방법으로 나누는 것이 아니라, 프로그램을 수 많은 객체라는 단위로 구분하고,이 객체들이 상호작용하는 방식\n",
        "\n",
        "- 각각의 객체는 메세지를 주고 받고,데이터를 처리"
      ]
    },
    {
      "cell_type": "markdown",
      "metadata": {
        "id": "3faIMpQZAyVj"
      },
      "source": [
        "#클래스(class)\n",
        "\n",
        "- 객체의 구성요소를 담는 개념\n",
        "- 여러 개의 속성(attribute)과 메서드(method)를 포함하는 개념\n",
        "- 객체를 정의하는 틀 또는 설계도\n",
        "- 실제 생성된 객체는 인스턴스(Instance)\n",
        "- 인스턴스는 메모리에 할당된 객체를 의미\n",
        "- 클래스 문법"
      ]
    },
    {
      "cell_type": "markdown",
      "metadata": {
        "id": "fxaANXCoCAoy"
      },
      "source": [
        "class Name(object)\n",
        " \n",
        "- class:클래스 정의\n",
        "- Name:클래스명\n",
        "- object:상속받는 객체명"
      ]
    },
    {
      "cell_type": "markdown",
      "metadata": {
        "id": "xNsq44qaCg18"
      },
      "source": [
        "# Book 클래스 정의\n",
        "- 클래스 이름:book\n",
        "\n",
        "- 속성\n",
        "  \n",
        "    - 저자:author\n",
        "    \n",
        "    - 제목:name  \n",
        "\n",
        "    - 출판사:publisher\n",
        "    \n",
        "    - 발행일:date"
      ]
    },
    {
      "cell_type": "code",
      "metadata": {
        "id": "exU5hZQMBHrT",
        "colab": {
          "base_uri": "https://localhost:8080/"
        },
        "outputId": "a282d524-5293-4c35-a08f-2aa7c935be7d"
      },
      "source": [
        "!ls"
      ],
      "execution_count": null,
      "outputs": [
        {
          "output_type": "stream",
          "name": "stdout",
          "text": [
            "sample_data\n"
          ]
        }
      ]
    },
    {
      "cell_type": "code",
      "metadata": {
        "colab": {
          "base_uri": "https://localhost:8080/"
        },
        "id": "nCPvDOv0DeJW",
        "outputId": "98161813-33f9-4793-8bd4-e5aab0243f73"
      },
      "source": [
        "# 코랩에 있는 파이썬 버전 확인\n",
        "import sys\n",
        "print(sys.version)"
      ],
      "execution_count": null,
      "outputs": [
        {
          "output_type": "stream",
          "name": "stdout",
          "text": [
            "3.7.12 (default, Sep 10 2021, 00:21:48) \n",
            "[GCC 7.5.0]\n"
          ]
        }
      ]
    },
    {
      "cell_type": "code",
      "metadata": {
        "colab": {
          "base_uri": "https://localhost:8080/",
          "height": 136
        },
        "id": "n7GNKAlbDi5X",
        "outputId": "95caaa01-44ba-4818-90f6-7f723a6cb63b"
      },
      "source": [
        "from google.colab import dr ive\n",
        "drive.mount('/content/drive')"
      ],
      "execution_count": null,
      "outputs": [
        {
          "output_type": "error",
          "ename": "SyntaxError",
          "evalue": "ignored",
          "traceback": [
            "\u001b[0;36m  File \u001b[0;32m\"<ipython-input-36-b0941400c3f2>\"\u001b[0;36m, line \u001b[0;32m1\u001b[0m\n\u001b[0;31m    from google.colab import dr ive\u001b[0m\n\u001b[0m                                  ^\u001b[0m\n\u001b[0;31mSyntaxError\u001b[0m\u001b[0;31m:\u001b[0m invalid syntax\n"
          ]
        }
      ]
    },
    {
      "cell_type": "code",
      "metadata": {
        "id": "myHtRoRaEATW"
      },
      "source": [
        "class Book():\n",
        " author = \"\"\n",
        " title = \"\"\n",
        " publisher = \"\"\n",
        " date = \"\""
      ],
      "execution_count": null,
      "outputs": []
    },
    {
      "cell_type": "code",
      "metadata": {
        "colab": {
          "base_uri": "https://localhost:8080/"
        },
        "id": "jcm9EBuGEKcN",
        "outputId": "e3c177ea-3f2c-4697-9eb5-37c13290dc43"
      },
      "source": [
        "book = Book() # (인스턴스) book 객체 생성:메모리에 로드\n",
        "book.author = 'jono'\n",
        "print(f'저자: {book.author}')\n",
        "book.title = \"Python Programing\"\n",
        "print('책 이름: {book.title}')\n",
        "book.publisher ='HanYang'\n",
        "print(f'출판사: {book.publisher}')\n",
        "book.date = \"2021/12/06\"\n",
        "print(f'발행날짜: {book.date}')"
      ],
      "execution_count": null,
      "outputs": [
        {
          "output_type": "stream",
          "name": "stdout",
          "text": [
            "저자: jono\n",
            "책 이름: {book.title}\n",
            "출판사: HanYang\n",
            "발행날짜: 2021/12/06\n"
          ]
        }
      ]
    },
    {
      "cell_type": "markdown",
      "metadata": {
        "id": "w0caRpJ1FfBj"
      },
      "source": [
        "# Book클래스 메소드 정의\n",
        "\n",
        "- 메소드\n",
        "  \n",
        "   - 책정보 출력:print_info(self)\n",
        "   - self가있어야만 실제로 인스턴스가 사용할수있는 메소드로 선언\n",
        "   - print_info(self)에서 self는 실제적으로 book 인스턴스를 의미\n",
        "   - 메소드안에서 속성값을 사용하지 않을경우에는 self 생략가능"
      ]
    },
    {
      "cell_type": "code",
      "metadata": {
        "id": "zo-D-23UFvaz"
      },
      "source": [
        "class Book():\n",
        "  author = \"\"\n",
        "  title = \"\" \n",
        "  publisher = \"\"\n",
        "  date = \"\"\n",
        "\n",
        "  def print_info(self):\n",
        "    print(f'Author:{self.author}')\n",
        "    print(f'Title: {self.title}')"
      ],
      "execution_count": null,
      "outputs": []
    },
    {
      "cell_type": "code",
      "metadata": {
        "colab": {
          "base_uri": "https://localhost:8080/"
        },
        "id": "QY58GzBtGESq",
        "outputId": "b21ce6f4-5226-4d57-effd-ecbc0acf7085"
      },
      "source": [
        "book1 = Book()\n",
        "book1.author ='Juno'\n",
        "book1.title ='Python Programming'\n",
        "book1.print_info()\n",
        "\n",
        "\n",
        "book2 = Book()\n",
        "book2.author = 'Suzy'\n",
        "book2.title = 'Java Programming'\n",
        "book2.print_info()"
      ],
      "execution_count": null,
      "outputs": [
        {
          "output_type": "stream",
          "name": "stdout",
          "text": [
            "Author:Juno\n",
            "Title: Python Programming\n",
            "Author:Suzy\n",
            "Title: Java Programming\n"
          ]
        }
      ]
    },
    {
      "cell_type": "markdown",
      "metadata": {
        "id": "h8WSKHg7KFG6"
      },
      "source": [
        "#  Book인스턴스 속성\n",
        " \n",
        "- Book 클래스에서 생성된 인스턴스 b1에서 속성을 활용\n"
      ]
    },
    {
      "cell_type": "code",
      "metadata": {
        "id": "Pdniq88XKdID"
      },
      "source": [
        "class Book():\n",
        "  author = \"\"\n",
        "  title = \"\" \n",
        "  publisher = \"\"\n",
        "  date = \"\"\n",
        "\n",
        "  def print_info(self):\n",
        "    print(f'Author:{self.author}')\n",
        "    print(f'Title: {self.title}')\n",
        "    print(f'Publisher: {self.publisher}')\n",
        "    print(f'Date: {self.date}')"
      ],
      "execution_count": null,
      "outputs": []
    },
    {
      "cell_type": "code",
      "metadata": {
        "colab": {
          "base_uri": "https://localhost:8080/"
        },
        "id": "6GHddxo0KwWc",
        "outputId": "a579a93d-c56d-4124-a5b1-5f669e66324b"
      },
      "source": [
        "b1 = Book()\n",
        "b1.author = 'Juno'\n",
        "b1.title = 'Python Progr amming'\n",
        "b1.publisher = \"Colab\"\n",
        "b1.date = '2021'\n",
        "b1.print_info()\n",
        "\n",
        "\n",
        "b2 = Book()\n",
        "b2.author = 'Suzy'\n",
        "b2.title = 'Java Scripts Programming'\n",
        "b2.publisher = \"Colab\"\n",
        "b2.date = '2022'\n",
        "b2.print_info()"
      ],
      "execution_count": null,
      "outputs": [
        {
          "output_type": "stream",
          "name": "stdout",
          "text": [
            "Author:Juno\n",
            "Title: Python Progr amming\n",
            "Publisher: Colab\n",
            "Date: 2021\n",
            "Author:Suzy\n",
            "Title: Java Scripts Programming\n",
            "Publisher: Colab\n",
            "Date: 2022\n"
          ]
        }
      ]
    },
    {
      "cell_type": "markdown",
      "metadata": {
        "id": "8xrfqB7iMHOK"
      },
      "source": [
        "# 클래스 속성(Class Attribute)\n",
        "\n",
        "- 클래스 속성은 클래스 자체에서 사용되는 속성"
      ]
    },
    {
      "cell_type": "markdown",
      "metadata": {
        "id": "2z1d9-NCMWCC"
      },
      "source": [
        "# Book 클래스 속성\n",
        "\n",
        "- Book 클래스 자체에서 사용되는 속성"
      ]
    },
    {
      "cell_type": "markdown",
      "metadata": {
        "id": "KFZgOJisNxZh"
      },
      "source": [
        "# 인스턴스 속성과 클래스속성의 활용\n",
        "\n",
        "- 인스턴스속성과 클래스속성을 목적에 맞도록 나누어서 활용"
      ]
    },
    {
      "cell_type": "markdown",
      "metadata": {
        "id": "N0jEoamLN5HS"
      },
      "source": [
        "# Book 인스턴스 속성과 클래스 속성\n",
        "\n",
        "- 인스턴스 속성\n",
        "\n",
        "   - 저자:author \n",
        "   \n",
        "   - 제목:title \n",
        "\n",
        "   - 출판사:publisher\n",
        "\n",
        "   - 발행일:date"
      ]
    },
    {
      "cell_type": "code",
      "metadata": {
        "id": "k2oMpueKOUwS"
      },
      "source": [
        "class Book():\n",
        "  author = \"\"\n",
        "  title = \"\" \n",
        "  publisher = \"\"\n",
        "  date = \"\"\n",
        "  count = 0\n",
        "\n",
        "  def print_info(self):\n",
        "    print(f'Author:{slef.author}')\n",
        "    print(f'Title: {self.title}')\n",
        "    print(f'Publisher: {self.publisher}')\n",
        "    print(f'Date: {self.date}')"
      ],
      "execution_count": null,
      "outputs": []
    },
    {
      "cell_type": "markdown",
      "metadata": {
        "id": "YS_3vAchOqsy"
      },
      "source": [
        "<pre>\n",
        "query = create table Book(\n",
        "  author text,\n",
        "  publisher text,\n",
        "  date date,\n",
        "  count integer\n",
        ")\n",
        "</pre>"
      ]
    },
    {
      "cell_type": "code",
      "metadata": {
        "colab": {
          "base_uri": "https://localhost:8080/"
        },
        "id": "fO-Zs8_rPcmZ",
        "outputId": "65ccc7e5-224f-4b61-ddba-3a2ad2ce6435"
      },
      "source": [
        "b1 = Book()\n",
        "Book.count = 1\n",
        "b1.author = 'Juno'\n",
        "b1.title = 'Python Progr amming'\n",
        "b1.publisher = \"Colab\"\n",
        "b1.date = '2021'\n",
        "b1.print_info()\n",
        "print(f'Number of Books: {str(Book.count)}')\n",
        "print(\"********************************\")\n",
        "b2 = Book()\n",
        "Book.count += 1\n",
        "b2.author = 'Suzy'\n",
        "b2.title = 'Java Progr amming'\n",
        "b2.publisher = \"Colab\"\n",
        "b2.date = '2022'\n",
        "b2.print_info()\n",
        "print(f'Number of Books:{str(Book.count)}')"
      ],
      "execution_count": null,
      "outputs": [
        {
          "output_type": "stream",
          "name": "stdout",
          "text": [
            "Author:Juno\n",
            "Title: Python Progr amming\n",
            "Number of Books: 1\n",
            "********************************\n",
            "Author:Suzy\n",
            "Title: Java Progr amming\n",
            "Number of Books:2\n"
          ]
        }
      ]
    },
    {
      "cell_type": "code",
      "metadata": {
        "id": "JM7-mS0wSNqB"
      },
      "source": [
        ""
      ],
      "execution_count": null,
      "outputs": []
    }
  ]
}